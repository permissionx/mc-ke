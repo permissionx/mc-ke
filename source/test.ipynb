{
 "cells": [
  {
   "cell_type": "code",
   "execution_count": 1,
   "metadata": {},
   "outputs": [
    {
     "data": {
      "text/plain": [
       "Iter (generic function with 3 methods)"
      ]
     },
     "execution_count": 1,
     "metadata": {},
     "output_type": "execute_result"
    }
   ],
   "source": [
    "using BenchmarkTools\n",
    "abstract type SuperType end\n",
    "mutable struct TypeA <: SuperType\n",
    "    a::Int64\n",
    "    b::Int64\n",
    "end\n",
    "mutable struct TypeB <: SuperType\n",
    "    a::Int64\n",
    "    b::Float64\n",
    "end\n",
    "\n",
    "function Iter(objs::Vector{SuperType})\n",
    "    for n in 1:1000\n",
    "        if n <= 500\n",
    "            push!(objs,TypeA(1,2))\n",
    "        else\n",
    "            push!(objs,TypeB(2,2.0))\n",
    "        end\n",
    "    end\n",
    "end\n",
    "    \n",
    "function Iter(objs::Vector{TypeA})\n",
    "    for n in 1:1000\n",
    "        if n <= 500\n",
    "            push!(objs,TypeA(1,2))\n",
    "        else\n",
    "            push!(objs,TypeA(2,2))\n",
    "        end\n",
    "    end\n",
    "end\n",
    "\n",
    "    \n",
    "function Iter(objs::Vector{Float64})\n",
    "    for _ in 1:1000\n",
    "        if rand() <= 0.5\n",
    "            TypeA(1,2)\n",
    "            push!(objs,1.0)\n",
    "        else\n",
    "            TypeB(1,2.0)\n",
    "            push!(objs,2.0)\n",
    "        end\n",
    "    end\n",
    "end"
   ]
  },
  {
   "cell_type": "code",
   "execution_count": 2,
   "metadata": {},
   "outputs": [],
   "source": [
    "abs = Vector{SuperType}()\n",
    "Iter(abs)"
   ]
  },
  {
   "cell_type": "code",
   "execution_count": 3,
   "metadata": {},
   "outputs": [],
   "source": [
    "as = Vector{TypeA}()\n",
    "Iter(as)"
   ]
  },
  {
   "cell_type": "code",
   "execution_count": 41,
   "metadata": {},
   "outputs": [
    {
     "data": {
      "text/plain": [
       "Operatey (generic function with 1 method)"
      ]
     },
     "execution_count": 41,
     "metadata": {},
     "output_type": "execute_result"
    }
   ],
   "source": [
    "function Operatey(objs::Vector{T}) where {T <: SuperType}\n",
    "    num = 0\n",
    "    for obj in objs\n",
    "        num += obj.a\n",
    "    end\n",
    "    num\n",
    "end"
   ]
  },
  {
   "cell_type": "code",
   "execution_count": 42,
   "metadata": {},
   "outputs": [
    {
     "data": {
      "text/plain": [
       "BenchmarkTools.Trial: \n",
       "  memory estimate:  31.25 KiB\n",
       "  allocs estimate:  2000\n",
       "  --------------\n",
       "  minimum time:     37.139 μs (0.00% GC)\n",
       "  median time:      45.880 μs (0.00% GC)\n",
       "  mean time:        54.894 μs (15.60% GC)\n",
       "  maximum time:     57.959 ms (99.89% GC)\n",
       "  --------------\n",
       "  samples:          10000\n",
       "  evals/sample:     1"
      ]
     },
     "execution_count": 42,
     "metadata": {},
     "output_type": "execute_result"
    }
   ],
   "source": [
    "@benchmark Operatey(abs)"
   ]
  },
  {
   "cell_type": "code",
   "execution_count": 43,
   "metadata": {},
   "outputs": [
    {
     "data": {
      "text/plain": [
       "BenchmarkTools.Trial: \n",
       "  memory estimate:  16 bytes\n",
       "  allocs estimate:  1\n",
       "  --------------\n",
       "  minimum time:     767.093 ns (0.00% GC)\n",
       "  median time:      775.827 ns (0.00% GC)\n",
       "  mean time:        781.592 ns (0.00% GC)\n",
       "  maximum time:     976.187 ns (0.00% GC)\n",
       "  --------------\n",
       "  samples:          10000\n",
       "  evals/sample:     107"
      ]
     },
     "execution_count": 43,
     "metadata": {},
     "output_type": "execute_result"
    }
   ],
   "source": [
    "@benchmark Operatey(as)"
   ]
  }
 ],
 "metadata": {
  "kernelspec": {
   "display_name": "Julia 1.2.0",
   "language": "julia",
   "name": "julia-1.2"
  },
  "language_info": {
   "file_extension": ".jl",
   "mimetype": "application/julia",
   "name": "julia",
   "version": "1.2.0"
  }
 },
 "nbformat": 4,
 "nbformat_minor": 2
}
